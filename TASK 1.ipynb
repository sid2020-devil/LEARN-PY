{
  "nbformat": 4,
  "nbformat_minor": 0,
  "metadata": {
    "colab": {
      "name": "TASK 1",
      "provenance": []
    },
    "kernelspec": {
      "name": "python3",
      "display_name": "Python 3"
    },
    "language_info": {
      "name": "python"
    }
  },
  "cells": [
    {
      "cell_type": "markdown",
      "metadata": {
        "id": "q-yWxfWESiQo"
      },
      "source": [
        "1.Write a program that uses input to prompt a user for their name and then welcomes them."
      ]
    },
    {
      "cell_type": "code",
      "metadata": {
        "id": "9ikpRxqMSxu0",
        "outputId": "fb3746cc-fffb-4b37-96fb-7d087bcd4b6c",
        "colab": {
          "base_uri": "https://localhost:8080/"
        }
      },
      "source": [
        "#please provide your answer here below this line\n",
        "\n",
        "name = input(\"Enter the name : \")\n",
        "print(\"Hello\" , name)\n"
      ],
      "execution_count": 1,
      "outputs": [
        {
          "output_type": "stream",
          "name": "stdout",
          "text": [
            "Enter the name : Sidharth S Unnithan\n",
            "Hello Sidharth S Unnithan\n"
          ]
        }
      ]
    },
    {
      "cell_type": "markdown",
      "metadata": {
        "id": "Ay5OdxguS-2Z"
      },
      "source": [
        "2.Write a program which prompts the user for a Celsius temperature, convert the temperature to Fahrenheit, and print out the converted temperature."
      ]
    },
    {
      "cell_type": "code",
      "metadata": {
        "id": "MMv2yWNtTgEu",
        "outputId": "ba322758-d06e-4046-eedc-35b40c646d85",
        "colab": {
          "base_uri": "https://localhost:8080/"
        }
      },
      "source": [
        "#please provide your answer here below this line\n",
        "\n",
        "celsius = float(input('Enter temperature in Celsius: '))  \n",
        "fahrenheit = (celsius * 1.8) + 32  \n",
        "print('%0.1f  Celsius is equal to %0.1f degree Fahrenheit'%(celsius,fahrenheit))"
      ],
      "execution_count": 2,
      "outputs": [
        {
          "output_type": "stream",
          "name": "stdout",
          "text": [
            "Enter temperature in Celsius: 30\n",
            "30.0  Celsius is equal to 86.0 degree Fahrenheit\n"
          ]
        }
      ]
    },
    {
      "cell_type": "markdown",
      "metadata": {
        "id": "v6O1a198TpNd"
      },
      "source": [
        "3.Write a Python program to convert degree to radian."
      ]
    },
    {
      "cell_type": "code",
      "metadata": {
        "id": "27Jj4_D0UQBA",
        "outputId": "19889a08-46d3-4223-d9bf-2a638781436e",
        "colab": {
          "base_uri": "https://localhost:8080/"
        }
      },
      "source": [
        "#please provide your answer here below this line\n",
        "\n",
        "pi = 3.14\n",
        "degree = float(input(\"Input degrees : \"))\n",
        "radian = degree * (pi/180)\n",
        "print(radian)"
      ],
      "execution_count": 3,
      "outputs": [
        {
          "output_type": "stream",
          "name": "stdout",
          "text": [
            "Input degrees : 18\n",
            "0.31400000000000006\n"
          ]
        }
      ]
    }
  ]
}