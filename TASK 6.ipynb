{
  "nbformat": 4,
  "nbformat_minor": 0,
  "metadata": {
    "colab": {
      "name": "TASK 6.ipynb",
      "provenance": []
    },
    "kernelspec": {
      "name": "python3",
      "display_name": "Python 3"
    },
    "language_info": {
      "name": "python"
    }
  },
  "cells": [
    {
      "cell_type": "markdown",
      "metadata": {
        "id": "2aT_QhgIny6V"
      },
      "source": [
        "1. Write a Python program to find those numbers which are divisible by 7 and multiple of 11, between 1000 and 2000 (both included)."
      ]
    },
    {
      "cell_type": "code",
      "metadata": {
        "id": "KlFG2BFZoEEU",
        "outputId": "efbfb489-3d4e-4f29-aabb-c5bac3d127c2",
        "colab": {
          "base_uri": "https://localhost:8080/"
        }
      },
      "source": [
        "#please enter your answer below this line\n",
        "\n",
        "n=[]\n",
        "for x in range(2000,11000):\n",
        "    if (x%7==0) and (x%11==0):\n",
        "        n.append(str(x))\n",
        "print (','.join(n))\n"
      ],
      "execution_count": 1,
      "outputs": [
        {
          "output_type": "stream",
          "name": "stdout",
          "text": [
            "2002,2079,2156,2233,2310,2387,2464,2541,2618,2695,2772,2849,2926,3003,3080,3157,3234,3311,3388,3465,3542,3619,3696,3773,3850,3927,4004,4081,4158,4235,4312,4389,4466,4543,4620,4697,4774,4851,4928,5005,5082,5159,5236,5313,5390,5467,5544,5621,5698,5775,5852,5929,6006,6083,6160,6237,6314,6391,6468,6545,6622,6699,6776,6853,6930,7007,7084,7161,7238,7315,7392,7469,7546,7623,7700,7777,7854,7931,8008,8085,8162,8239,8316,8393,8470,8547,8624,8701,8778,8855,8932,9009,9086,9163,9240,9317,9394,9471,9548,9625,9702,9779,9856,9933,10010,10087,10164,10241,10318,10395,10472,10549,10626,10703,10780,10857,10934\n"
          ]
        }
      ]
    },
    {
      "cell_type": "markdown",
      "metadata": {
        "id": "ZesHXUMboLu7"
      },
      "source": [
        "2. Write a program to print this pattern\n",
        "\n",
        "           #\n",
        "          ## \n",
        "         ###"
      ]
    },
    {
      "cell_type": "code",
      "metadata": {
        "id": "64-aUjWbohqz",
        "outputId": "6823e24d-d33a-4065-87fb-28ffb54606ed",
        "colab": {
          "base_uri": "https://localhost:8080/"
        }
      },
      "source": [
        "#please enter your answer below this line\n",
        "\n",
        "\n",
        "def pypart2(n):\n",
        "    k = 2*n - 2\n",
        "    for i in range(0, n):\n",
        "        for j in range(0, k):\n",
        "            print(end=\" \")\n",
        "        k = k - 2\n",
        "        for j in range(0, i+1):\n",
        "            print(\"# \", end=\"\")\n",
        "        print(\"\\r\")\n",
        "n = 3\n",
        "pypart2(n)\n",
        "\n"
      ],
      "execution_count": 2,
      "outputs": [
        {
          "output_type": "stream",
          "name": "stdout",
          "text": [
            "    # \r\n",
            "  # # \r\n",
            "# # # \r\n"
          ]
        }
      ]
    },
    {
      "cell_type": "markdown",
      "metadata": {
        "id": "6ZepaaI-ow6W"
      },
      "source": [
        "3. list=[apple, orange, apple, banana]\n",
        ". Replace all the apple in the list with grapes using for loop"
      ]
    },
    {
      "cell_type": "code",
      "metadata": {
        "id": "D7UOyf_6o6Ax",
        "outputId": "3e01d143-e2db-41fd-fc79-9a98a130248b",
        "colab": {
          "base_uri": "https://localhost:8080/"
        }
      },
      "source": [
        "#please enter your answer below this line\n",
        "\n",
        "fruits=['apple','orange','apple','banana']\n",
        "for index, f in enumerate(fruits):\n",
        "  if f == 'apple':\n",
        "    fruits[index] = 'grapes'\n",
        "print(fruits)"
      ],
      "execution_count": 3,
      "outputs": [
        {
          "output_type": "stream",
          "name": "stdout",
          "text": [
            "['grapes', 'orange', 'grapes', 'banana']\n"
          ]
        }
      ]
    }
  ]
}