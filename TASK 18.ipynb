{
  "nbformat": 4,
  "nbformat_minor": 0,
  "metadata": {
    "colab": {
      "name": "TASK 18.ipynb",
      "provenance": []
    },
    "kernelspec": {
      "name": "python3",
      "display_name": "Python 3"
    },
    "language_info": {
      "name": "python"
    }
  },
  "cells": [
    {
      "cell_type": "markdown",
      "metadata": {
        "id": "_JgXT8pEAjU4"
      },
      "source": [
        "1. \n",
        "Create a DataFrame by passing a random numpy array,with a datetie index and labelled columns.and,\n",
        "    - slice its first three rows and display.\n",
        "    - slice its odd indexed rows.\n",
        "    - display the dates from 1st postion to 4 th position."
      ]
    },
    {
      "cell_type": "code",
      "metadata": {
        "id": "5zFM5VOJBKBV",
        "outputId": "0a68a1eb-80d8-408e-d6aa-e90b95c73fcc",
        "colab": {
          "base_uri": "https://localhost:8080/"
        }
      },
      "source": [
        "#please provide your answer below this line.\n",
        "\n",
        "import numpy as np\n",
        "import pandas as pd\n",
        "datetie = pd.date_range('2021-10-31',periods=6)\n",
        "df = pd.DataFrame(np.random.randn(6,5), index=datetie, columns=list('ABCDE'))\n",
        "print(\"Dataframe :\\n\",df)\n",
        "print(\"\\nFirst three rows:\\n\",df.iloc[0:3])\n",
        "print(\"\\nOdd indexed rows:\\n\",df.iloc[1::2])\n",
        "dt1=df.iloc[0:4]\n",
        "print (\"\\nDates from position 1 to 4 :\\n\",dt1.index)\n"
      ],
      "execution_count": 2,
      "outputs": [
        {
          "output_type": "stream",
          "name": "stdout",
          "text": [
            "Dataframe :\n",
            "                    A         B         C         D         E\n",
            "2021-10-31 -0.485227  0.824921  0.926799  0.914305  1.942496\n",
            "2021-11-01  0.448013 -1.393418 -0.762126  1.580581  0.772291\n",
            "2021-11-02 -1.045871 -0.423850 -1.436576 -0.075891  1.041699\n",
            "2021-11-03 -0.899884 -0.286362  2.328465 -1.287236 -0.657679\n",
            "2021-11-04  2.018081  0.484447  0.789032 -0.921129  1.153777\n",
            "2021-11-05 -0.289366  0.080473  0.640836  0.474155  0.345422\n",
            "\n",
            "First three rows:\n",
            "                    A         B         C         D         E\n",
            "2021-10-31 -0.485227  0.824921  0.926799  0.914305  1.942496\n",
            "2021-11-01  0.448013 -1.393418 -0.762126  1.580581  0.772291\n",
            "2021-11-02 -1.045871 -0.423850 -1.436576 -0.075891  1.041699\n",
            "\n",
            "Odd indexed rows:\n",
            "                    A         B         C         D         E\n",
            "2021-11-01  0.448013 -1.393418 -0.762126  1.580581  0.772291\n",
            "2021-11-03 -0.899884 -0.286362  2.328465 -1.287236 -0.657679\n",
            "2021-11-05 -0.289366  0.080473  0.640836  0.474155  0.345422\n",
            "\n",
            "Dates from position 1 to 4 :\n",
            " DatetimeIndex(['2021-10-31', '2021-11-01', '2021-11-02', '2021-11-03'], dtype='datetime64[ns]', freq='D')\n"
          ]
        }
      ]
    },
    {
      "cell_type": "markdown",
      "metadata": {
        "id": "QuoucvjxBPmX"
      },
      "source": [
        "2. Create a DataFrame by passing a random numpy array,with a datetie index and labelled columns.and\n",
        "  - Dislplay the index from the 1 to 3 date and the columns A and B of respective data.\n",
        "  - Display the datas at the 3rd index.\n",
        "  - Display datas from 2nd to 5th.\n",
        "  - Display the datas from the index 1,2,4 and the column 0 and 2."
      ]
    },
    {
      "cell_type": "code",
      "metadata": {
        "id": "qV_wzsp1DUKI",
        "outputId": "55e13732-1f75-4005-932d-ee9183ccffc5",
        "colab": {
          "base_uri": "https://localhost:8080/"
        }
      },
      "source": [
        "#please provide your answer below thins line.\n",
        "\n",
        "\n",
        "import numpy as np\n",
        "import pandas as pd\n",
        "datetie = pd.date_range('2021-10-31',periods=5)\n",
        "df = pd.DataFrame(np.random.randn(5,5), index=datetie, columns=list('ABCDE'))\n",
        "print(\"Index 1 to 3 date and the columns A and B:\\n\",df.iloc[1:4,0:2])\n",
        "print(\"\\nDatas at the 3rd index:\\n\",df.iloc[3:4])\n",
        "print(\"\\nDatas from 2nd to 5th:\\n\",df.iloc[2:6])\n",
        "print(\"\\nDatas from the index 1,2,4 and the column 0 and 2:\\n\",df.iloc[[1,2,4],[0,2]])\n"
      ],
      "execution_count": 4,
      "outputs": [
        {
          "output_type": "stream",
          "name": "stdout",
          "text": [
            "Index 1 to 3 date and the columns A and B:\n",
            "                    A         B\n",
            "2021-11-01 -1.573336 -0.922589\n",
            "2021-11-02  0.556828  0.109662\n",
            "2021-11-03  0.104828  0.497368\n",
            "\n",
            "Datas at the 3rd index:\n",
            "                    A         B         C         D         E\n",
            "2021-11-03  0.104828  0.497368  1.329205  0.462915  1.255803\n",
            "\n",
            "Datas from 2nd to 5th:\n",
            "                    A         B         C         D         E\n",
            "2021-11-02  0.556828  0.109662  0.092431  1.405538 -1.028797\n",
            "2021-11-03  0.104828  0.497368  1.329205  0.462915  1.255803\n",
            "2021-11-04  0.028486 -0.637028  0.055345  0.768426  1.440592\n",
            "\n",
            "Datas from the index 1,2,4 and the column 0 and 2:\n",
            "                    A         C\n",
            "2021-11-01 -1.573336  0.038840\n",
            "2021-11-02  0.556828  0.092431\n",
            "2021-11-04  0.028486  0.055345\n"
          ]
        }
      ]
    }
  ]
}