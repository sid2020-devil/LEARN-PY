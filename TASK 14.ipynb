{
  "nbformat": 4,
  "nbformat_minor": 0,
  "metadata": {
    "colab": {
      "name": "TASK 14.ipynb",
      "provenance": []
    },
    "kernelspec": {
      "name": "python3",
      "display_name": "Python 3"
    },
    "language_info": {
      "name": "python"
    }
  },
  "cells": [
    {
      "cell_type": "markdown",
      "metadata": {
        "id": "pDx7KyZoXYNb"
      },
      "source": [
        "1. Create two arrays, one containing elements [1,2], [3,4] and another containing elements [8,18] Now find the solution for this linear equation."
      ]
    },
    {
      "cell_type": "code",
      "metadata": {
        "id": "1HQu2yB2YMbj",
        "outputId": "83c99a20-0d2f-4f7b-9b4d-bb10dfbb7079",
        "colab": {
          "base_uri": "https://localhost:8080/"
        }
      },
      "source": [
        "#please type your answer below this line.\n",
        "\n",
        "import numpy as np\n",
        "import array\n",
        "a = [[1, 2,],[3,4]]\n",
        "matrix_length = len(a)\n",
        "for i in range(matrix_length):\n",
        "    print(a[i])\n",
        "\n",
        "b = [8,18]\n",
        "print(b)\n",
        "print(\"The solution for this linear equation is :\" , np.linalg.solve(a,b))\n"
      ],
      "execution_count": 1,
      "outputs": [
        {
          "output_type": "stream",
          "name": "stdout",
          "text": [
            "[1, 2]\n",
            "[3, 4]\n",
            "[8, 18]\n",
            "The solution for this linear equation is : [2. 3.]\n"
          ]
        }
      ]
    },
    {
      "cell_type": "markdown",
      "metadata": {
        "id": "RyDr51p8ZxQp"
      },
      "source": [
        "2. Create an array containing elements [2, 3, 4]. Now find the sin,cos,tan values of this array elements."
      ]
    },
    {
      "cell_type": "code",
      "metadata": {
        "id": "iXZByHNOaXbk",
        "outputId": "a1d2c50c-8a19-4c33-d9f8-4570b1143880",
        "colab": {
          "base_uri": "https://localhost:8080/"
        }
      },
      "source": [
        "#please type your answer below this line.\n",
        "\n",
        "import numpy as np\n",
        "array = [2,3,4]\n",
        "print(\"Sin value : \" , np.sin(array))\n",
        "print(\"Cos value : \" , np.cos(array))\n",
        "print(\"Tan value : \" , np.tan(array))"
      ],
      "execution_count": 3,
      "outputs": [
        {
          "output_type": "stream",
          "name": "stdout",
          "text": [
            "Sin value :  [ 0.90929743  0.14112001 -0.7568025 ]\n",
            "Cos value :  [-0.41614684 -0.9899925  -0.65364362]\n",
            "Tan value :  [-2.18503986 -0.14254654  1.15782128]\n"
          ]
        }
      ]
    },
    {
      "cell_type": "markdown",
      "metadata": {
        "id": "Itk2DMc6b60J"
      },
      "source": [
        "3. Given b=[5,6], then find,\n",
        "\n",
        "  a) 2sinb\n",
        "  b) 2cos3b\n",
        "  c) 4tan2b"
      ]
    },
    {
      "cell_type": "code",
      "metadata": {
        "id": "lgxpIaKebw5y",
        "outputId": "dcff5ecb-2ab8-4578-cade-36f2cdc4d6e2",
        "colab": {
          "base_uri": "https://localhost:8080/"
        }
      },
      "source": [
        "#please type your answer below this line.\n",
        "\n",
        "import numpy as np\n",
        "b =  [5,6]\n",
        "print(\"2sinb = \",2*np.sin(b))\n",
        "print(\"2cos3b = \",2*np.cos(3*b))\n",
        "print(\"4tan2b = \",4*np.tan(2*b))\n"
      ],
      "execution_count": 6,
      "outputs": [
        {
          "output_type": "stream",
          "name": "stdout",
          "text": [
            "2sinb =  [-1.91784855 -0.558831  ]\n",
            "2cos3b =  [0.56732437 1.92034057 0.56732437 1.92034057 0.56732437 1.92034057]\n",
            "4tan2b =  [-13.52206002  -1.16402477 -13.52206002  -1.16402477]\n"
          ]
        }
      ]
    }
  ]
}