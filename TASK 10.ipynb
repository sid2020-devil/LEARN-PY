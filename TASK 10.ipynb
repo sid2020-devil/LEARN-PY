{
  "nbformat": 4,
  "nbformat_minor": 0,
  "metadata": {
    "colab": {
      "name": "TASK 10.ipynb",
      "provenance": []
    },
    "kernelspec": {
      "name": "python3",
      "display_name": "Python 3"
    },
    "language_info": {
      "name": "python"
    }
  },
  "cells": [
    {
      "cell_type": "markdown",
      "metadata": {
        "id": "VHKxwUewxOi2"
      },
      "source": [
        "1. Generate two  3 x 3 matrix and find it's dot product and take the transpose of the answer."
      ]
    },
    {
      "cell_type": "code",
      "metadata": {
        "id": "RdyKd1CAxZtR",
        "outputId": "a0708532-e59c-4edc-d057-0f9964cfc983",
        "colab": {
          "base_uri": "https://localhost:8080/"
        }
      },
      "source": [
        "#please provide your answer below this line.\n",
        "\n",
        "import numpy as np\n",
        "array = np.arange(0,9).reshape(3,3)\n",
        "print(array)\n",
        "array1 = np.arange(3,12).reshape(3,3)\n",
        "print(array1)\n",
        "array2= np.dot(array,array1)\n",
        "print(array2)\n",
        "print(\"Transpose of array2 is : \\n\",np.transpose(array2))\n"
      ],
      "execution_count": 1,
      "outputs": [
        {
          "output_type": "stream",
          "name": "stdout",
          "text": [
            "[[0 1 2]\n",
            " [3 4 5]\n",
            " [6 7 8]]\n",
            "[[ 3  4  5]\n",
            " [ 6  7  8]\n",
            " [ 9 10 11]]\n",
            "[[ 24  27  30]\n",
            " [ 78  90 102]\n",
            " [132 153 174]]\n",
            "Transpose of array2 is : \n",
            " [[ 24  78 132]\n",
            " [ 27  90 153]\n",
            " [ 30 102 174]]\n"
          ]
        }
      ]
    },
    {
      "cell_type": "markdown",
      "metadata": {
        "id": "9c9ZwiBxxf4t"
      },
      "source": [
        "2. Create a 3x3 matrix with elements [55,25,15], [30,44,2], [11,45,77] . Now find the determinant of the given matrix."
      ]
    },
    {
      "cell_type": "code",
      "metadata": {
        "id": "Anmr3C9KyNyy",
        "outputId": "f560fbcc-8f5a-4e94-e286-b07601b539cb",
        "colab": {
          "base_uri": "https://localhost:8080/"
        }
      },
      "source": [
        "#please provide your answer below this line.\n",
        "\n",
        "import numpy as np\n",
        "array = [[55,25,25],\n",
        "              [30,44,2],\n",
        "                  [11,45,77]]\n",
        "matrix_length = len(array)\n",
        "for i in range(matrix_length):\n",
        "    print(array[i])\n",
        "print(\"Determinant of array is :\",np.linalg.det(array))"
      ],
      "execution_count": 2,
      "outputs": [
        {
          "output_type": "stream",
          "name": "stdout",
          "text": [
            "[55, 25, 25]\n",
            "[30, 44, 2]\n",
            "[11, 45, 77]\n",
            "Determinant of array is : 145839.99999999994\n"
          ]
        }
      ]
    }
  ]
}