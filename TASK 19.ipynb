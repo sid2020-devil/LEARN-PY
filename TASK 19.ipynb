{
  "nbformat": 4,
  "nbformat_minor": 0,
  "metadata": {
    "colab": {
      "name": "TASK 19.ipynb",
      "provenance": []
    },
    "kernelspec": {
      "name": "python3",
      "display_name": "Python 3"
    },
    "language_info": {
      "name": "python"
    }
  },
  "cells": [
    {
      "cell_type": "markdown",
      "metadata": {
        "id": "6J-6GvX2JUcC"
      },
      "source": [
        "1. Create a DataFrame by passing a random numpy array,with a dateted index and labelled columns and display,\n",
        "  - where values of the column A is greater than 0.\n",
        "  - where values of the columns A is greater than 0 and B greater than -1.\n",
        "  - where values of the columns A  is greater than 0 or B greater than -1.\n"
      ]
    },
    {
      "cell_type": "code",
      "metadata": {
        "id": "xX-5VikpLcHL",
        "outputId": "d263557d-96d3-4161-f960-183316815b60",
        "colab": {
          "base_uri": "https://localhost:8080/"
        }
      },
      "source": [
        "#please type your code below this line.\n",
        "\n",
        "import numpy as np\n",
        "import pandas as pd\n",
        "datetie = pd.date_range('2021-10-31',periods=5)\n",
        "df = pd.DataFrame(np.random.randn(5,5), index=datetie, columns=list('ABCDE'))\n",
        "print(\"Dataframe :\\n\",df)\n",
        "print(\"\\nValues of the column A is greater than 0:\\n\",df[df['A']>0])\n",
        "print(\"\\nValues of the columns A is greater than 0 and B greater than -1:\\n\",df[(df['A']>0) & (df['B']>-1)])\n",
        "print(\"\\nValues of the columns A is greater than 0 or B greater than -1:\\n\",df[(df['A']>0) | (df['B']>-1)])"
      ],
      "execution_count": 1,
      "outputs": [
        {
          "output_type": "stream",
          "name": "stdout",
          "text": [
            "Dataframe :\n",
            "                    A         B         C         D         E\n",
            "2021-10-31  0.377222 -0.368185 -0.755420  0.076063  0.855885\n",
            "2021-11-01  0.306651  1.983593 -0.192857  0.885398  0.683859\n",
            "2021-11-02  0.131076  1.253306 -1.317338  0.488456  0.348773\n",
            "2021-11-03 -0.106848  1.429010 -0.049935 -1.300977 -1.836898\n",
            "2021-11-04  2.492153  1.102727 -0.873912 -0.813212  0.173086\n",
            "\n",
            "Values of the column A is greater than 0:\n",
            "                    A         B         C         D         E\n",
            "2021-10-31  0.377222 -0.368185 -0.755420  0.076063  0.855885\n",
            "2021-11-01  0.306651  1.983593 -0.192857  0.885398  0.683859\n",
            "2021-11-02  0.131076  1.253306 -1.317338  0.488456  0.348773\n",
            "2021-11-04  2.492153  1.102727 -0.873912 -0.813212  0.173086\n",
            "\n",
            "Values of the columns A is greater than 0 and B greater than -1:\n",
            "                    A         B         C         D         E\n",
            "2021-10-31  0.377222 -0.368185 -0.755420  0.076063  0.855885\n",
            "2021-11-01  0.306651  1.983593 -0.192857  0.885398  0.683859\n",
            "2021-11-02  0.131076  1.253306 -1.317338  0.488456  0.348773\n",
            "2021-11-04  2.492153  1.102727 -0.873912 -0.813212  0.173086\n",
            "\n",
            "Values of the columns A is greater than 0 or B greater than -1:\n",
            "                    A         B         C         D         E\n",
            "2021-10-31  0.377222 -0.368185 -0.755420  0.076063  0.855885\n",
            "2021-11-01  0.306651  1.983593 -0.192857  0.885398  0.683859\n",
            "2021-11-02  0.131076  1.253306 -1.317338  0.488456  0.348773\n",
            "2021-11-03 -0.106848  1.429010 -0.049935 -1.300977 -1.836898\n",
            "2021-11-04  2.492153  1.102727 -0.873912 -0.813212  0.173086\n"
          ]
        }
      ]
    },
    {
      "cell_type": "markdown",
      "metadata": {
        "id": "1WAf9SbwLp6o"
      },
      "source": [
        "2. Create a DataFrame by passing a random numpy array,with a dateted index and labelled columns and check if ,\n",
        "  - the values of the table are greater the zero or not.\n",
        "  - the value at the postion (0,0) is equal to NaN or not."
      ]
    },
    {
      "cell_type": "code",
      "metadata": {
        "id": "rBrt8pMeM2Q5",
        "outputId": "322b5e02-5a04-4f98-bfdf-f56481c5615e",
        "colab": {
          "base_uri": "https://localhost:8080/"
        }
      },
      "source": [
        "#please type your code below this line.\n",
        "\n",
        "import numpy as np\n",
        "import pandas as pd\n",
        "datetie = pd.date_range('2021-10-31',periods=5)\n",
        "df = pd.DataFrame(np.random.randn(5,5), index=datetie, columns=list('ABCDE'))\n",
        "print(df)\n",
        "print(\"\\nValues greater the zero or not:\\n\",df>0)\n",
        "print(\"\\nValue at the postion (0,0) is equal to NaN or not:\\n\",df.iloc[[0],[0]] == 'NaN')\n"
      ],
      "execution_count": 2,
      "outputs": [
        {
          "output_type": "stream",
          "name": "stdout",
          "text": [
            "                   A         B         C         D         E\n",
            "2021-10-31  0.381370  0.305928  0.945676 -0.962291 -0.993869\n",
            "2021-11-01 -0.900595 -0.491399 -0.041055  0.777472 -0.785144\n",
            "2021-11-02 -0.514295  0.892099 -1.521861 -0.269055 -1.162233\n",
            "2021-11-03 -1.477615  0.205144 -1.934953  0.275443 -0.218555\n",
            "2021-11-04  0.523583 -0.033487 -1.427446 -1.982432 -0.434532\n",
            "\n",
            "Values greater the zero or not:\n",
            "                 A      B      C      D      E\n",
            "2021-10-31   True   True   True  False  False\n",
            "2021-11-01  False  False  False   True  False\n",
            "2021-11-02  False   True  False  False  False\n",
            "2021-11-03  False   True  False   True  False\n",
            "2021-11-04   True  False  False  False  False\n",
            "\n",
            "Value at the postion (0,0) is equal to NaN or not:\n",
            "                 A\n",
            "2021-10-31  False\n"
          ]
        }
      ]
    },
    {
      "cell_type": "markdown",
      "metadata": {
        "id": "IfM9XYmiNaKB"
      },
      "source": [
        "3. Create a DataFrame by passing a random numpy array,with a dateted index and labelled columns and,\n",
        "  - reindex the index with even dates.\n",
        "  - create a column with values NaN.\n",
        "  - make the values of the first two index of the newly created column as 1"
      ]
    },
    {
      "cell_type": "code",
      "metadata": {
        "id": "F-w8kEfaORg3",
        "outputId": "4d7eb45a-9da9-4764-b4ff-2713fea7fbda",
        "colab": {
          "base_uri": "https://localhost:8080/"
        }
      },
      "source": [
        "#please type your answer below this line.\n",
        "\n",
        "import numpy as np\n",
        "import pandas as pd\n",
        "datetie = pd.date_range('2021-10-02',periods=5)\n",
        "df = pd.DataFrame(np.random.randn(5,5), index=datetie, columns=list('ABCDE'))\n",
        "print(df)\n",
        "df1 = df.reindex(df.index[0::2])\n",
        "print(\"\\nIndex with even dates:\\n\",df1)\n",
        "df1['F'] = 'NaN'\n",
        "print(\"\\nNew column with values NaN:\\n\",df1)\n",
        "df1.loc[df1.index[:2],'F'] = 1\n",
        "print(\"\\nFirst two index of the newly created column as 1:\\n\",df1)\n"
      ],
      "execution_count": 3,
      "outputs": [
        {
          "output_type": "stream",
          "name": "stdout",
          "text": [
            "                   A         B         C         D         E\n",
            "2021-10-02  0.717105  0.502982  0.772511  0.193620 -0.521215\n",
            "2021-10-03  0.337133 -1.028001  0.096197 -2.614257  0.989166\n",
            "2021-10-04  0.157081 -1.853801  0.213751  1.342266  1.001241\n",
            "2021-10-05  0.007209 -0.290971 -1.250168  0.514861  0.007065\n",
            "2021-10-06 -1.369985  0.013469 -0.252586 -1.293086 -0.255793\n",
            "\n",
            "Index with even dates:\n",
            "                    A         B         C         D         E\n",
            "2021-10-02  0.717105  0.502982  0.772511  0.193620 -0.521215\n",
            "2021-10-04  0.157081 -1.853801  0.213751  1.342266  1.001241\n",
            "2021-10-06 -1.369985  0.013469 -0.252586 -1.293086 -0.255793\n",
            "\n",
            "New column with values NaN:\n",
            "                    A         B         C         D         E    F\n",
            "2021-10-02  0.717105  0.502982  0.772511  0.193620 -0.521215  NaN\n",
            "2021-10-04  0.157081 -1.853801  0.213751  1.342266  1.001241  NaN\n",
            "2021-10-06 -1.369985  0.013469 -0.252586 -1.293086 -0.255793  NaN\n",
            "\n",
            "First two index of the newly created column as 1:\n",
            "                    A         B         C         D         E    F\n",
            "2021-10-02  0.717105  0.502982  0.772511  0.193620 -0.521215    1\n",
            "2021-10-04  0.157081 -1.853801  0.213751  1.342266  1.001241    1\n",
            "2021-10-06 -1.369985  0.013469 -0.252586 -1.293086 -0.255793  NaN\n"
          ]
        }
      ]
    }
  ]
}