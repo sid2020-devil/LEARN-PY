{
  "nbformat": 4,
  "nbformat_minor": 0,
  "metadata": {
    "colab": {
      "name": "TASK 21.ipynb",
      "provenance": []
    },
    "kernelspec": {
      "name": "python3",
      "display_name": "Python 3"
    },
    "language_info": {
      "name": "python"
    }
  },
  "cells": [
    {
      "cell_type": "markdown",
      "metadata": {
        "id": "wK9sv7fHTnyo"
      },
      "source": [
        "1.  Using the dataset given below,\n",
        "  - Group the given dataset by A and find the sum of the groups.\n",
        "  - Find the 3 least elements from the column D\n",
        "  - Find the 3 largest elements from the Column D which belongs to the group\n",
        "  'bar'."
      ]
    },
    {
      "cell_type": "code",
      "metadata": {
        "id": "C_Kq4i_rVNyB",
        "outputId": "d650ce7f-1f83-4525-c12e-a1c86a457b36",
        "colab": {
          "base_uri": "https://localhost:8080/"
        }
      },
      "source": [
        "import pandas as pd\n",
        "import numpy as np\n",
        "df = pd.DataFrame({'A' : ['foo', 'bar', 'foo', 'bar',\n",
        "                          'foo', 'bar', 'foo', 'foo'],\n",
        "                   'B' : ['one', 'one', 'two', 'three',\n",
        "                          'two', 'two', 'one', 'three'],\n",
        "                   'C' : np.random.randn(8),\n",
        "                   'D' : np.random.randn(8)})\n",
        "df\n",
        "#please type your code below this line.\n",
        "\n",
        "group = df.groupby('A')\n",
        "print(\"sum of the groups:\\n\",group.sum())\n",
        "print(\"3 least elements from the column D:\\n\",df['D'].nsmallest(3))\n",
        "print(\"3 largest elements from the Column D which belongs to the group 'bar':\\n\",group['D'].get_group('bar').nlargest(3))\n"
      ],
      "execution_count": 1,
      "outputs": [
        {
          "output_type": "stream",
          "name": "stdout",
          "text": [
            "sum of the groups:\n",
            "             C         D\n",
            "A                      \n",
            "bar  0.234348  2.946836\n",
            "foo  1.158119 -1.672891\n",
            "3 least elements from the column D:\n",
            " 7   -1.256420\n",
            "0   -0.706783\n",
            "4   -0.222785\n",
            "Name: D, dtype: float64\n",
            "3 largest elements from the Column D which belongs to the group 'bar':\n",
            " 3    2.686572\n",
            "1    0.362605\n",
            "5   -0.102341\n",
            "Name: D, dtype: float64\n"
          ]
        }
      ]
    },
    {
      "cell_type": "markdown",
      "metadata": {
        "id": "68XLHGsrdHXb"
      },
      "source": [
        "2. Using the dataset given below,\n",
        "  - convert the dataset into a csv file.\n",
        "  - read the csv file just saved\n",
        "  - covert the dataset into a excel file.\n",
        "  - read the excel file just saved."
      ]
    },
    {
      "cell_type": "code",
      "metadata": {
        "id": "J4BOx3UZdVLV",
        "outputId": "9a3ca9ef-c69e-4a1f-9d8d-a578e5ed6b78",
        "colab": {
          "base_uri": "https://localhost:8080/"
        }
      },
      "source": [
        "import pandas as pd\n",
        "import numpy as np\n",
        "df = pd.DataFrame({'A' : ['foo', 'bar', 'foo', 'bar',\n",
        "                          'foo', 'bar', 'foo', 'foo'],\n",
        "                   'B' : ['one', 'one', 'two', 'three',\n",
        "                          'two', 'two', 'one', 'three'],\n",
        "                   'C' : np.random.randn(8),\n",
        "                   'D' : np.random.randn(8)})\n",
        "#please type your code below this line.\n",
        "\n",
        "print(df)\n",
        "df.to_csv('csvFile.csv')\n",
        "print(\"CSS FILE:\\n\", pd.read_csv('csvFile.csv'))\n",
        "df.to_excel('excelFile.xlsx')\n",
        "print(\"EXCEL FILE:\\n\",pd.read_excel('excelFile.xlsx'))"
      ],
      "execution_count": 2,
      "outputs": [
        {
          "output_type": "stream",
          "name": "stdout",
          "text": [
            "     A      B         C         D\n",
            "0  foo    one -0.188005  0.501729\n",
            "1  bar    one  1.852218 -0.830144\n",
            "2  foo    two -1.190759 -1.668059\n",
            "3  bar  three -0.371026 -0.158261\n",
            "4  foo    two -0.602220 -0.273759\n",
            "5  bar    two -0.972363 -1.019759\n",
            "6  foo    one  0.920107  1.136674\n",
            "7  foo  three  1.209208  1.386379\n",
            "CSS FILE:\n",
            "    Unnamed: 0    A      B         C         D\n",
            "0           0  foo    one -0.188005  0.501729\n",
            "1           1  bar    one  1.852218 -0.830144\n",
            "2           2  foo    two -1.190759 -1.668059\n",
            "3           3  bar  three -0.371026 -0.158261\n",
            "4           4  foo    two -0.602220 -0.273759\n",
            "5           5  bar    two -0.972363 -1.019759\n",
            "6           6  foo    one  0.920107  1.136674\n",
            "7           7  foo  three  1.209208  1.386379\n",
            "EXCEL FILE:\n",
            "    Unnamed: 0    A      B         C         D\n",
            "0           0  foo    one -0.188005  0.501729\n",
            "1           1  bar    one  1.852218 -0.830144\n",
            "2           2  foo    two -1.190759 -1.668059\n",
            "3           3  bar  three -0.371026 -0.158261\n",
            "4           4  foo    two -0.602220 -0.273759\n",
            "5           5  bar    two -0.972363 -1.019759\n",
            "6           6  foo    one  0.920107  1.136674\n",
            "7           7  foo  three  1.209208  1.386379\n"
          ]
        }
      ]
    }
  ]
}