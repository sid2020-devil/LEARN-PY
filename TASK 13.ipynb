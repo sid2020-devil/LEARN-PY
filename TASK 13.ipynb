{
  "nbformat": 4,
  "nbformat_minor": 0,
  "metadata": {
    "colab": {
      "name": "TASK 13.ipynb",
      "provenance": []
    },
    "kernelspec": {
      "name": "python3",
      "display_name": "Python 3"
    },
    "language_info": {
      "name": "python"
    }
  },
  "cells": [
    {
      "cell_type": "markdown",
      "metadata": {
        "id": "RUSoRkrOqNwf"
      },
      "source": [
        "1. Create a 3x3 array values ranging from 0-8.Find the sum of the elements in this array."
      ]
    },
    {
      "cell_type": "code",
      "metadata": {
        "id": "t01ATYQpqq8u",
        "outputId": "0145fbfa-f236-474a-b9b5-018f9b7d6a05",
        "colab": {
          "base_uri": "https://localhost:8080/"
        }
      },
      "source": [
        "#please enter your code below this line.\n",
        "\n",
        "import numpy as np\n",
        "array = np.arange(0,9).reshape(3,3)\n",
        "print(\"Sum of all elements in an array is : \" ,np.sum(array))"
      ],
      "execution_count": 1,
      "outputs": [
        {
          "output_type": "stream",
          "name": "stdout",
          "text": [
            "Sum of all elements in an array is :  36\n"
          ]
        }
      ]
    },
    {
      "cell_type": "markdown",
      "metadata": {
        "id": "k3Y7nQF7r3IW"
      },
      "source": [
        "2. Create a 3x3 array values ranging from 0-8.Find the row sum and column sum of this array."
      ]
    },
    {
      "cell_type": "code",
      "metadata": {
        "id": "BzvIlWfvsICv",
        "outputId": "1e920aab-d0f3-4cda-b132-4e7e39369c75",
        "colab": {
          "base_uri": "https://localhost:8080/"
        }
      },
      "source": [
        "#please enter your code below this line.\n",
        "\n",
        "import numpy as np\n",
        "array = np.arange(0,9).reshape(3,3);\n",
        "print(\"Row Sum of this array is : \" ,np.sum(array,axis=1))\n",
        "print(\"Column Sum of this array is : \" ,np.sum(array,axis=0))"
      ],
      "execution_count": 2,
      "outputs": [
        {
          "output_type": "stream",
          "name": "stdout",
          "text": [
            "Row Sum of this array is :  [ 3 12 21]\n",
            "Column Sum of this array is :  [ 9 12 15]\n"
          ]
        }
      ]
    },
    {
      "cell_type": "markdown",
      "metadata": {
        "id": "KOPMsbnrsgue"
      },
      "source": [
        "3. Create a 4x4 array values ranging from 0-15. Now,\n",
        "\n",
        "    a) Find the mininmum value in the array.\n",
        "    \n",
        "    b) Find the maximum value in the array.\n",
        "\n",
        "    c) Find the mean of the values in the array."
      ]
    },
    {
      "cell_type": "code",
      "metadata": {
        "id": "1UzITxp3WDaW",
        "outputId": "24f167e0-a932-4993-dd74-d5c19b9a7aef",
        "colab": {
          "base_uri": "https://localhost:8080/"
        }
      },
      "source": [
        "#please enter your code belowthis line.\n",
        "\n",
        "import numpy as np\n",
        "array = np.arange(0,16).reshape(4,4)\n",
        "print(\"Minimum value in the array is : \",np.min(array))\n",
        "print(\"Maximum value in the array is : \",np.max(array))\n",
        "print(\"Mean of values in the array is : \",np.mean(array))"
      ],
      "execution_count": 3,
      "outputs": [
        {
          "output_type": "stream",
          "name": "stdout",
          "text": [
            "Minimum value in the array is :  0\n",
            "Maximum value in the array is :  15\n",
            "Mean of values in the array is :  7.5\n"
          ]
        }
      ]
    },
    {
      "cell_type": "markdown",
      "metadata": {
        "id": "Pah9qGButoz2"
      },
      "source": [
        "4. Create an 10x10 array values ranging from 0-99.And ,\n",
        "\n",
        "    a) Print the 7th row.\n",
        "    \n",
        "    b) Print the rows from 4-8.\n",
        "\n",
        "    c) Print the value at the index 5,5.\n",
        "\n",
        "    d) Print the 5th colomn.\n",
        "\n",
        "    e) Print the columns from 2-5."
      ]
    },
    {
      "cell_type": "code",
      "metadata": {
        "id": "JFXPq0GkvhKi",
        "outputId": "f383a662-2811-4230-9e60-1197af01a896",
        "colab": {
          "base_uri": "https://localhost:8080/"
        }
      },
      "source": [
        "#please enter your code below this line.\n",
        "\n",
        "import numpy as np\n",
        "array = np.arange(0,100).reshape(10,10)\n",
        "print(array)\n",
        "print(\"7th row of the array is :\",array[7])\n",
        "print(\"Rows 4-8 of  the array is :\",array[4:8])\n",
        "print(\"Value at index 5,5 of array is :\",[5,5])\n",
        "print(\"The 5th column of matrix is : \",array[:,5])\n",
        "print(\"Columns  2-5 of  the array is :\",array[:,2:5])\n"
      ],
      "execution_count": 4,
      "outputs": [
        {
          "output_type": "stream",
          "name": "stdout",
          "text": [
            "[[ 0  1  2  3  4  5  6  7  8  9]\n",
            " [10 11 12 13 14 15 16 17 18 19]\n",
            " [20 21 22 23 24 25 26 27 28 29]\n",
            " [30 31 32 33 34 35 36 37 38 39]\n",
            " [40 41 42 43 44 45 46 47 48 49]\n",
            " [50 51 52 53 54 55 56 57 58 59]\n",
            " [60 61 62 63 64 65 66 67 68 69]\n",
            " [70 71 72 73 74 75 76 77 78 79]\n",
            " [80 81 82 83 84 85 86 87 88 89]\n",
            " [90 91 92 93 94 95 96 97 98 99]]\n",
            "7th row of the array is : [70 71 72 73 74 75 76 77 78 79]\n",
            "Rows 4-8 of  the array is : [[40 41 42 43 44 45 46 47 48 49]\n",
            " [50 51 52 53 54 55 56 57 58 59]\n",
            " [60 61 62 63 64 65 66 67 68 69]\n",
            " [70 71 72 73 74 75 76 77 78 79]]\n",
            "Value at index 5,5 of array is : [5, 5]\n",
            "The 5th column of matrix is :  [ 5 15 25 35 45 55 65 75 85 95]\n",
            "Columns  2-5 of  the array is : [[ 2  3  4]\n",
            " [12 13 14]\n",
            " [22 23 24]\n",
            " [32 33 34]\n",
            " [42 43 44]\n",
            " [52 53 54]\n",
            " [62 63 64]\n",
            " [72 73 74]\n",
            " [82 83 84]\n",
            " [92 93 94]]\n"
          ]
        }
      ]
    }
  ]
}