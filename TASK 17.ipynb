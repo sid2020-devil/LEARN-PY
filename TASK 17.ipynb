{
  "nbformat": 4,
  "nbformat_minor": 0,
  "metadata": {
    "colab": {
      "name": "TASK 17.ipynb",
      "provenance": []
    },
    "kernelspec": {
      "name": "python3",
      "display_name": "Python 3"
    },
    "language_info": {
      "name": "python"
    }
  },
  "cells": [
    {
      "cell_type": "markdown",
      "metadata": {
        "id": "0SLapvpoaeYY"
      },
      "source": [
        "1. Create a DataFrame by passing a random numpy array,with a datetie index and labelled columns.and display its,\n",
        "     - Head\n",
        "     - Tail\n",
        "     - Index \n",
        "     - Columns\n",
        "     - Values\n",
        "     - statistics\n"
      ]
    },
    {
      "cell_type": "code",
      "metadata": {
        "id": "zJDkjyVxa5yU",
        "outputId": "fac6ea6b-7484-4236-fe0d-0c5def4d6600",
        "colab": {
          "base_uri": "https://localhost:8080/"
        }
      },
      "source": [
        "#please type your answer below this line.\n",
        "\n",
        "\n",
        "import numpy as np\n",
        "import pandas as pd\n",
        "datetie = pd.date_range('2021-08-31',periods=6) \n",
        "df = pd.DataFrame(np.random.randn(6,4), index=datetie, columns=list('ABCD')) \n",
        "print(\"Head:\\n\", df.head(n=4)) \n",
        "print(\"Tail:\\n\", df.tail(n=4)) \n",
        "print(\"Index:\\n\", df.index) \n",
        "print(\"Columns:\\n\", df.columns) \n",
        "print(\"Values:\\n\", df.values) \n",
        "print(\"Statistics:\\n\", df.describe(include='all'))\n"
      ],
      "execution_count": 3,
      "outputs": [
        {
          "output_type": "stream",
          "name": "stdout",
          "text": [
            "Head:\n",
            "                    A         B         C         D\n",
            "2021-08-31 -0.546155 -0.620344 -1.269171  1.895742\n",
            "2021-09-01  0.584913 -0.972813 -0.745980  0.790195\n",
            "2021-09-02 -0.996016  0.545844 -0.245322  0.509515\n",
            "2021-09-03  1.139377  0.871817  0.225612 -0.253364\n",
            "Tail:\n",
            "                    A         B         C         D\n",
            "2021-09-02 -0.996016  0.545844 -0.245322  0.509515\n",
            "2021-09-03  1.139377  0.871817  0.225612 -0.253364\n",
            "2021-09-04 -0.020111  0.583216  0.041785 -1.425110\n",
            "2021-09-05  1.060452 -1.062250 -2.811301 -0.112734\n",
            "Index:\n",
            " DatetimeIndex(['2021-08-31', '2021-09-01', '2021-09-02', '2021-09-03',\n",
            "               '2021-09-04', '2021-09-05'],\n",
            "              dtype='datetime64[ns]', freq='D')\n",
            "Columns:\n",
            " Index(['A', 'B', 'C', 'D'], dtype='object')\n",
            "Values:\n",
            " [[-0.54615537 -0.62034436 -1.26917125  1.8957423 ]\n",
            " [ 0.58491312 -0.97281289 -0.74598042  0.79019505]\n",
            " [-0.99601563  0.54584427 -0.24532222  0.5095147 ]\n",
            " [ 1.13937718  0.87181708  0.22561171 -0.25336412]\n",
            " [-0.02011069  0.58321613  0.04178481 -1.42510959]\n",
            " [ 1.06045158 -1.06224979 -2.81130066 -0.11273437]]\n",
            "Statistics:\n",
            "               A         B         C         D\n",
            "count  6.000000  6.000000  6.000000  6.000000\n",
            "mean   0.203743 -0.109088 -0.800730  0.234041\n",
            "std    0.872529  0.870209  1.125746  1.118664\n",
            "min   -0.996016 -1.062250 -2.811301 -1.425110\n",
            "25%   -0.414644 -0.884696 -1.138374 -0.218207\n",
            "50%    0.282401 -0.037250 -0.495651  0.198390\n",
            "75%    0.941567  0.573873 -0.029992  0.720025\n",
            "max    1.139377  0.871817  0.225612  1.895742\n"
          ]
        }
      ]
    },
    {
      "cell_type": "markdown",
      "metadata": {
        "id": "xnkA2mKDdyoO"
      },
      "source": [
        "2. Use the above table and,\n",
        "      - find transpose of your data.\n",
        "      - sort the index in the descending order of the date."
      ]
    },
    {
      "cell_type": "code",
      "metadata": {
        "id": "uqcQSEOufJ5P",
        "outputId": "acc17ee7-b4fc-485c-ad5f-f789d134c584",
        "colab": {
          "base_uri": "https://localhost:8080/"
        }
      },
      "source": [
        "#please provide your answer below this line.\n",
        "\n",
        "print(\"Transpose : \\n\", df.transpose()) \n",
        "print(\"Sorted index in Descending Order : \\n\", df.sort_index(ascending=False))\n"
      ],
      "execution_count": 4,
      "outputs": [
        {
          "output_type": "stream",
          "name": "stdout",
          "text": [
            "Transpose : \n",
            "    2021-08-31  2021-09-01  2021-09-02  2021-09-03  2021-09-04  2021-09-05\n",
            "A   -0.546155    0.584913   -0.996016    1.139377   -0.020111    1.060452\n",
            "B   -0.620344   -0.972813    0.545844    0.871817    0.583216   -1.062250\n",
            "C   -1.269171   -0.745980   -0.245322    0.225612    0.041785   -2.811301\n",
            "D    1.895742    0.790195    0.509515   -0.253364   -1.425110   -0.112734\n",
            "Sorted index in Descending Order : \n",
            "                    A         B         C         D\n",
            "2021-09-05  1.060452 -1.062250 -2.811301 -0.112734\n",
            "2021-09-04 -0.020111  0.583216  0.041785 -1.425110\n",
            "2021-09-03  1.139377  0.871817  0.225612 -0.253364\n",
            "2021-09-02 -0.996016  0.545844 -0.245322  0.509515\n",
            "2021-09-01  0.584913 -0.972813 -0.745980  0.790195\n",
            "2021-08-31 -0.546155 -0.620344 -1.269171  1.895742\n"
          ]
        }
      ]
    }
  ]
}