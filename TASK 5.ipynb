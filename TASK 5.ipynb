{
  "nbformat": 4,
  "nbformat_minor": 0,
  "metadata": {
    "colab": {
      "name": "TASK 5.ipynb",
      "provenance": []
    },
    "kernelspec": {
      "name": "python3",
      "display_name": "Python 3"
    },
    "language_info": {
      "name": "python"
    }
  },
  "cells": [
    {
      "cell_type": "markdown",
      "metadata": {
        "id": "Gu_sxK-id8Zw"
      },
      "source": [
        "1.Given a list l=[23, 45, 25 ,78, 90, 45, 22, 56, 99, 12, 9, 75, 32]\n",
        "\n",
        "Write a single line program to display.\n",
        "\n",
        "a) elements at even index in the list.\n",
        "\n",
        "b) remove the 3 middle elements (45, 22 and 56)"
      ]
    },
    {
      "cell_type": "code",
      "metadata": {
        "id": "hiAZt40tgbu8",
        "outputId": "56410c07-546e-4198-f77c-7b51067c8788",
        "colab": {
          "base_uri": "https://localhost:8080/"
        }
      },
      "source": [
        "#please write the code below this line\n",
        "\n",
        "\n",
        "list = [23,45,25,78,90,45,22,56,99,12,9,75,32]\n",
        "for i in range(0,len(list)):\n",
        "    if i%2 == 0:\n",
        "        print(list[i])\n",
        "del list[5:8]\n",
        "print(list)"
      ],
      "execution_count": 1,
      "outputs": [
        {
          "output_type": "stream",
          "name": "stdout",
          "text": [
            "23\n",
            "25\n",
            "90\n",
            "22\n",
            "99\n",
            "9\n",
            "32\n",
            "[23, 45, 25, 78, 90, 99, 12, 9, 75, 32]\n"
          ]
        }
      ]
    },
    {
      "cell_type": "markdown",
      "metadata": {
        "id": "EyjCDxcygv2C"
      },
      "source": [
        "2.Given a list lowerCase=['a', 'e', 'i', 'o', 'u']\n",
        "Create a new list upperCase using list comprehension and copy the content of the lowerCase list, but in uppercase (capital letters). (upperCase should be ['A', 'E', 'I', 'O', 'U'])"
      ]
    },
    {
      "cell_type": "code",
      "metadata": {
        "id": "-HhhWi7jhGIj",
        "outputId": "2d17f5fa-171e-44fd-f964-9df9a3e96256",
        "colab": {
          "base_uri": "https://localhost:8080/"
        }
      },
      "source": [
        "#please write the code below this line\n",
        "\n",
        "lowerCase = ['a','e','i','o','u']\n",
        "upperCase = [x.upper() for x in lowerCase]\n",
        "print(upperCase)"
      ],
      "execution_count": 2,
      "outputs": [
        {
          "output_type": "stream",
          "name": "stdout",
          "text": [
            "['A', 'E', 'I', 'O', 'U']\n"
          ]
        }
      ]
    },
    {
      "cell_type": "markdown",
      "metadata": {
        "id": "YkTzwuJphPxV"
      },
      "source": [
        "3.Given a tuple fruits = (\"banana\", \"cherry\", \"apple\", \"grapes\")\n",
        "Create 3 variables yellow, red and green and assign them with fruits of their respective color.\n",
        "(yellow=\"banana\", red=[\"cherry\", \"apple\"], green=\"grapes (hint- Use unpacking)"
      ]
    },
    {
      "cell_type": "code",
      "metadata": {
        "id": "cSaKkX2mh33Q",
        "outputId": "3db28140-2b75-4b9b-fab9-f7c4fc186a81",
        "colab": {
          "base_uri": "https://localhost:8080/"
        }
      },
      "source": [
        "#please write the code below this line\n",
        "\n",
        "fruits = (\"banana\",\"cherry\",\"apple\",\"grapes\")\n",
        "yellow = \"banana\"\n",
        "red = \"cherry\",\"apples\"\n",
        "green = \"grapes\"\n",
        "fruits = (yellow,red,green)\n",
        "print(fruits)"
      ],
      "execution_count": 3,
      "outputs": [
        {
          "output_type": "stream",
          "name": "stdout",
          "text": [
            "('banana', ('cherry', 'apples'), 'grapes')\n"
          ]
        }
      ]
    },
    {
      "cell_type": "code",
      "metadata": {
        "id": "OWb4Apv0zlqe"
      },
      "source": [
        ""
      ],
      "execution_count": null,
      "outputs": []
    }
  ]
}