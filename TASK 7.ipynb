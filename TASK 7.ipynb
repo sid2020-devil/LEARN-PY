{
  "nbformat": 4,
  "nbformat_minor": 0,
  "metadata": {
    "colab": {
      "name": "TASK  7.ipynb",
      "provenance": []
    },
    "kernelspec": {
      "name": "python3",
      "display_name": "Python 3"
    },
    "language_info": {
      "name": "python"
    }
  },
  "cells": [
    {
      "cell_type": "markdown",
      "metadata": {
        "id": "b0V3vwzcydKy"
      },
      "source": [
        "1. Write a program to check whether a  string is palindrome or not using functions. \n",
        "\n",
        "   ( A function is to be created to check whether the string is palindrome and it should give the output true or false to the main program)"
      ]
    },
    {
      "cell_type": "code",
      "metadata": {
        "id": "M2Mi7EOdyxiu",
        "outputId": "e54915ca-c382-4e63-ef37-4feea24de4cc",
        "colab": {
          "base_uri": "https://localhost:8080/"
        }
      },
      "source": [
        "#please enter the code below this line.\n",
        "\n",
        "def Palindrome():\n",
        "  string = input((\"Enter a string : \"))\n",
        "  if(string==string[::-1]):\n",
        "    print(\"The string\" , string , \"is a plaindrome\")\n",
        "  else:\n",
        "    print(\"The string\" , string ,  \"is not a palindrome\")\n",
        "Palindrome()"
      ],
      "execution_count": 4,
      "outputs": [
        {
          "output_type": "stream",
          "name": "stdout",
          "text": [
            "Enter a string : malayalam\n",
            "The string malayalam is a plaindrome\n"
          ]
        }
      ]
    },
    {
      "cell_type": "markdown",
      "metadata": {
        "id": "vSiShTyOzEz-"
      },
      "source": [
        "2.  Write a menu driven program to find largest element in L, smallest element, avg of all values, sum of all values in L. All these operation should be performed in different functions and the result should be returned.\n",
        "\n",
        "\n",
        "      L=[23,24,11,90,1,41,9,99,28,56,72]"
      ]
    },
    {
      "cell_type": "code",
      "metadata": {
        "id": "fRtMIw_CzsmO",
        "outputId": "aebc391c-6df5-41a4-9b28-0aeaeb01712e",
        "colab": {
          "base_uri": "https://localhost:8080/"
        }
      },
      "source": [
        "#please enter the code below this line.\n",
        "\n",
        "\n",
        "L=[23,24,11,90,1,41,9,99,28,56,72]\n",
        "def MinElement():\n",
        "  print(\"The smallest element in the list is : \", min(L))\n",
        "  return min(L)\n",
        "def MaxElement():\n",
        "  print(\"The largest element in the list is :\" , max(L))\n",
        "  return max(L)\n",
        "def SumList():\n",
        "  total=0\n",
        "  for ele in range(0,len(L)):\n",
        "    total = total + L[ele]\n",
        "  print(\"The sum of elements of given list is :\", total)\n",
        "  return total\n",
        "def AvgList():\n",
        "  total=0\n",
        "  for ele in range(0,len(L)):\n",
        "    total = total + L[ele]\n",
        "  avg = total/len(L)\n",
        "  print(\"The average of list is :\", avg)\n",
        "  return avg\n",
        "\n",
        "while True:\n",
        "    print(\"\\n MAIN MENU\")\n",
        "    print(\"1.Min element\")\n",
        "    print(\"2.Max element\")\n",
        "    print(\"3.Sum of List\")\n",
        "    print(\"4.Average of List\")\n",
        "    choice = int(input(\"Enter your choice : \"))\n",
        "    if choice == 1:\n",
        "      MinElement()\n",
        "    elif choice == 2:\n",
        "      MaxElement()\n",
        "    elif choice == 3:\n",
        "      SumList()\n",
        "    elif choice == 4:\n",
        "      AvgList()\n",
        "    else:\n",
        "      print(\"Incorrect choice\")\n",
        "      break"
      ],
      "execution_count": 5,
      "outputs": [
        {
          "output_type": "stream",
          "name": "stdout",
          "text": [
            "\n",
            " MAIN MENU\n",
            "1.Min element\n",
            "2.Max element\n",
            "3.Sum of List\n",
            "4.Average of List\n",
            "Enter your choice : 1\n",
            "The smallest element in the list is :  1\n",
            "\n",
            " MAIN MENU\n",
            "1.Min element\n",
            "2.Max element\n",
            "3.Sum of List\n",
            "4.Average of List\n",
            "Enter your choice : 2\n",
            "The largest element in the list is : 99\n",
            "\n",
            " MAIN MENU\n",
            "1.Min element\n",
            "2.Max element\n",
            "3.Sum of List\n",
            "4.Average of List\n",
            "Enter your choice : 3\n",
            "The sum of elements of given list is : 454\n",
            "\n",
            " MAIN MENU\n",
            "1.Min element\n",
            "2.Max element\n",
            "3.Sum of List\n",
            "4.Average of List\n",
            "Enter your choice : 4\n",
            "The average of list is : 41.27272727272727\n",
            "\n",
            " MAIN MENU\n",
            "1.Min element\n",
            "2.Max element\n",
            "3.Sum of List\n",
            "4.Average of List\n",
            "Enter your choice : 5\n",
            "Incorrect choice\n"
          ]
        }
      ]
    }
  ]
}