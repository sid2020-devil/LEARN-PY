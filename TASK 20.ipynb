{
  "nbformat": 4,
  "nbformat_minor": 0,
  "metadata": {
    "colab": {
      "name": "TASK 20.ipynb",
      "provenance": []
    },
    "kernelspec": {
      "name": "python3",
      "display_name": "Python 3"
    },
    "language_info": {
      "name": "python"
    }
  },
  "cells": [
    {
      "cell_type": "markdown",
      "metadata": {
        "id": "8LIfdcjDWmC3"
      },
      "source": [
        "1. In the data given below,\n",
        "  - find the boolean mask where value is nan\n",
        "  - remove the row with missing data.\n"
      ]
    },
    {
      "cell_type": "markdown",
      "metadata": {
        "id": "VPCGISRTbYPz"
      },
      "source": [
        ""
      ]
    },
    {
      "cell_type": "code",
      "metadata": {
        "colab": {
          "base_uri": "https://localhost:8080/"
        },
        "id": "VsZQYRqXXHpG",
        "outputId": "da403028-8a3c-415a-9813-937af11675a2"
      },
      "source": [
        "import pandas as pd\n",
        "import numpy as np\n",
        "dates = pd.date_range('20210101',periods=6)\n",
        "df = pd.DataFrame(np.random.randn(6,4), index=dates,columns=list('ABCD'))\n",
        "s1 = pd.Series([1,2,3,4,5,6], index=pd.date_range('20130102', periods=6))\n",
        "df[\"F\"]=s1\n",
        "df1=df.reindex(index=dates[0:4], columns=list(df.columns) + ['E'])\n",
        "df1.loc[dates[0]:dates[1],'E'] = 1\n",
        "df1\n",
        "\n",
        "\n",
        "print(df1)\n",
        "print(\"\\nboolean mask where value is nan:\\n\",df1.isnull())\n",
        "print(\"\\nRemove the row with missing data:\\n\",df1.dropna())\n"
      ],
      "execution_count": 2,
      "outputs": [
        {
          "output_type": "stream",
          "name": "stdout",
          "text": [
            "                   A         B         C         D   F    E\n",
            "2021-01-01  0.781337  0.943853  0.083622 -0.821434 NaN  1.0\n",
            "2021-01-02 -1.295243 -1.353751 -0.798581  1.570594 NaN  1.0\n",
            "2021-01-03 -0.643716 -0.935026 -0.789246  1.497257 NaN  NaN\n",
            "2021-01-04 -0.542863  0.745427 -0.033671 -1.735976 NaN  NaN\n",
            "\n",
            "boolean mask where value is nan:\n",
            "                 A      B      C      D     F      E\n",
            "2021-01-01  False  False  False  False  True  False\n",
            "2021-01-02  False  False  False  False  True  False\n",
            "2021-01-03  False  False  False  False  True   True\n",
            "2021-01-04  False  False  False  False  True   True\n",
            "\n",
            "Remove the row with missing data:\n",
            " Empty DataFrame\n",
            "Columns: [A, B, C, D, F, E]\n",
            "Index: []\n"
          ]
        }
      ]
    },
    {
      "cell_type": "markdown",
      "metadata": {
        "id": "z1sv0aluZhcd"
      },
      "source": [
        "2. In the data given below,fill the missing data with 20."
      ]
    },
    {
      "cell_type": "code",
      "metadata": {
        "colab": {
          "base_uri": "https://localhost:8080/"
        },
        "id": "x3ZHFCeyZ0j2",
        "outputId": "7ee59f4e-f780-4d9a-a739-c53ab720b7eb"
      },
      "source": [
        "import pandas as pd\n",
        "import numpy as np\n",
        "dates = pd.date_range('20210101',periods=6)\n",
        "df = pd.DataFrame(np.random.randn(6,4), index=dates,columns=list('ABCD'))\n",
        "s1 = pd.Series([1,2,3,4,5,6], index=pd.date_range('20130102', periods=6))\n",
        "df[\"F\"]=s1\n",
        "df1=df.reindex(index=dates[0:4], columns=list(df.columns) + ['E'])\n",
        "df1.loc[dates[0]:dates[1],'E'] = 1\n",
        "df1\n",
        "\n",
        "print(df1)\n",
        "print(\"\\nFilling the missing data with 20:\\n\",df1.fillna(value = 20))\n"
      ],
      "execution_count": 3,
      "outputs": [
        {
          "output_type": "stream",
          "name": "stdout",
          "text": [
            "                   A         B         C         D   F    E\n",
            "2021-01-01 -0.759723 -0.148147 -0.634706 -0.269154 NaN  1.0\n",
            "2021-01-02 -1.121143  0.958929  0.624229 -0.143740 NaN  1.0\n",
            "2021-01-03 -0.685284  0.458360 -1.483162 -0.802276 NaN  NaN\n",
            "2021-01-04 -0.111619 -0.775582 -0.326057  0.529835 NaN  NaN\n",
            "\n",
            "Filling the missing data with 20:\n",
            "                    A         B         C         D     F     E\n",
            "2021-01-01 -0.759723 -0.148147 -0.634706 -0.269154  20.0   1.0\n",
            "2021-01-02 -1.121143  0.958929  0.624229 -0.143740  20.0   1.0\n",
            "2021-01-03 -0.685284  0.458360 -1.483162 -0.802276  20.0  20.0\n",
            "2021-01-04 -0.111619 -0.775582 -0.326057  0.529835  20.0  20.0\n"
          ]
        }
      ]
    },
    {
      "cell_type": "markdown",
      "metadata": {
        "id": "vMzwvpxcZ3G8"
      },
      "source": [
        "3. From the data given below,\n",
        "  - break the data in to pieces from 0 t0 2 ,3 t0 7\n",
        "  - concatenate the pieces.\n",
        "  - concatenate the pieces along axis 1\n",
        "  - label each as 'a' and 'b' respectively and perform concatenation."
      ]
    },
    {
      "cell_type": "code",
      "metadata": {
        "colab": {
          "base_uri": "https://localhost:8080/"
        },
        "id": "LxGwKPTVbbXV",
        "outputId": "9f27473a-1fe2-44ae-d595-b9954223f65d"
      },
      "source": [
        "import pandas as pd\n",
        "import numpy as np\n",
        "df = pd.DataFrame(np.random.randn(10, 4))\n",
        "df\n",
        "#please provide your answer below this line\n",
        "\n",
        "print(df)\n",
        "pieces = [df[:3],df[3:8]]\n",
        "print(\"\\nPieces of data from 0 to 2 ,3 to 7:\\n\",pieces[0],\"\\n\",pieces[1])\n",
        "print(\"\\nConcatenated pieces:\\n\",pd.concat(pieces))\n",
        "print(\"\\nconcatenate the pieces along axis 1:\\n\",pd.concat(pieces, axis = 1))\n",
        "a = pieces[0]\n",
        "b = pieces[1]\n",
        "print(\"\\nConcatination of a and b:\\n\",pd.concat([a,b]))\n"
      ],
      "execution_count": 4,
      "outputs": [
        {
          "output_type": "stream",
          "name": "stdout",
          "text": [
            "          0         1         2         3\n",
            "0 -0.316019  0.202974 -1.206935 -0.690373\n",
            "1  1.144046 -0.044370  1.159533 -0.828569\n",
            "2 -0.220284  1.519344  0.423404  0.542551\n",
            "3 -0.461183  0.451216  0.130236  0.664216\n",
            "4  1.034236  0.603683  0.203605  0.140704\n",
            "5  1.236516 -0.664090  0.452371  1.308823\n",
            "6  0.549202  0.353866  0.597235 -0.290993\n",
            "7  0.234201  0.207558  1.300013  0.381333\n",
            "8 -0.588741  0.997172  0.278997 -0.958286\n",
            "9  0.806851  0.150263  1.803262  0.311205\n",
            "\n",
            "Pieces of data from 0 to 2 ,3 to 7:\n",
            "           0         1         2         3\n",
            "0 -0.316019  0.202974 -1.206935 -0.690373\n",
            "1  1.144046 -0.044370  1.159533 -0.828569\n",
            "2 -0.220284  1.519344  0.423404  0.542551 \n",
            "           0         1         2         3\n",
            "3 -0.461183  0.451216  0.130236  0.664216\n",
            "4  1.034236  0.603683  0.203605  0.140704\n",
            "5  1.236516 -0.664090  0.452371  1.308823\n",
            "6  0.549202  0.353866  0.597235 -0.290993\n",
            "7  0.234201  0.207558  1.300013  0.381333\n",
            "\n",
            "Concatenated pieces:\n",
            "           0         1         2         3\n",
            "0 -0.316019  0.202974 -1.206935 -0.690373\n",
            "1  1.144046 -0.044370  1.159533 -0.828569\n",
            "2 -0.220284  1.519344  0.423404  0.542551\n",
            "3 -0.461183  0.451216  0.130236  0.664216\n",
            "4  1.034236  0.603683  0.203605  0.140704\n",
            "5  1.236516 -0.664090  0.452371  1.308823\n",
            "6  0.549202  0.353866  0.597235 -0.290993\n",
            "7  0.234201  0.207558  1.300013  0.381333\n",
            "\n",
            "concatenate the pieces along axis 1:\n",
            "           0         1         2  ...         1         2         3\n",
            "0 -0.316019  0.202974 -1.206935  ...       NaN       NaN       NaN\n",
            "1  1.144046 -0.044370  1.159533  ...       NaN       NaN       NaN\n",
            "2 -0.220284  1.519344  0.423404  ...       NaN       NaN       NaN\n",
            "3       NaN       NaN       NaN  ...  0.451216  0.130236  0.664216\n",
            "4       NaN       NaN       NaN  ...  0.603683  0.203605  0.140704\n",
            "5       NaN       NaN       NaN  ... -0.664090  0.452371  1.308823\n",
            "6       NaN       NaN       NaN  ...  0.353866  0.597235 -0.290993\n",
            "7       NaN       NaN       NaN  ...  0.207558  1.300013  0.381333\n",
            "\n",
            "[8 rows x 8 columns]\n",
            "\n",
            "Concatination of a and b:\n",
            "           0         1         2         3\n",
            "0 -0.316019  0.202974 -1.206935 -0.690373\n",
            "1  1.144046 -0.044370  1.159533 -0.828569\n",
            "2 -0.220284  1.519344  0.423404  0.542551\n",
            "3 -0.461183  0.451216  0.130236  0.664216\n",
            "4  1.034236  0.603683  0.203605  0.140704\n",
            "5  1.236516 -0.664090  0.452371  1.308823\n",
            "6  0.549202  0.353866  0.597235 -0.290993\n",
            "7  0.234201  0.207558  1.300013  0.381333\n"
          ]
        }
      ]
    }
  ]
}