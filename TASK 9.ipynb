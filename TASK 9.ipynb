{
  "nbformat": 4,
  "nbformat_minor": 0,
  "metadata": {
    "colab": {
      "name": "TASK 9.ipynb",
      "provenance": []
    },
    "kernelspec": {
      "name": "python3",
      "display_name": "Python 3"
    },
    "language_info": {
      "name": "python"
    }
  },
  "cells": [
    {
      "cell_type": "markdown",
      "metadata": {
        "id": "CBOQ3rFElEb0"
      },
      "source": [
        "1. Create an 4x4 array containing the values ranging from 0 - 15 (use arange function). Then ,\n",
        "  \n",
        "  a) split it equally along horizontal.\n",
        "\n",
        "  b) split it as 4 parts vertically.\n",
        "\n"
      ]
    },
    {
      "cell_type": "code",
      "metadata": {
        "id": "pKy4fjS_m3XD",
        "outputId": "1db111e1-c8dd-457f-9661-f27fe543ea73",
        "colab": {
          "base_uri": "https://localhost:8080/"
        }
      },
      "source": [
        "#please provide your answer below this line\n",
        "\n",
        "import numpy as np\n",
        "array = np.arange(0,16).reshape(4,4)\n",
        "print(array)\n",
        "print(np.hsplit(array,4))\n",
        "print(np.vsplit(array,4))\n",
        "\n"
      ],
      "execution_count": 2,
      "outputs": [
        {
          "output_type": "stream",
          "name": "stdout",
          "text": [
            "[[ 0  1  2  3]\n",
            " [ 4  5  6  7]\n",
            " [ 8  9 10 11]\n",
            " [12 13 14 15]]\n",
            "[array([[ 0],\n",
            "       [ 4],\n",
            "       [ 8],\n",
            "       [12]]), array([[ 1],\n",
            "       [ 5],\n",
            "       [ 9],\n",
            "       [13]]), array([[ 2],\n",
            "       [ 6],\n",
            "       [10],\n",
            "       [14]]), array([[ 3],\n",
            "       [ 7],\n",
            "       [11],\n",
            "       [15]])]\n",
            "[array([[0, 1, 2, 3]]), array([[4, 5, 6, 7]]), array([[ 8,  9, 10, 11]]), array([[12, 13, 14, 15]])]\n"
          ]
        }
      ]
    },
    {
      "cell_type": "markdown",
      "metadata": {
        "id": "ORtqWRAeoMvn"
      },
      "source": [
        "2. Create a 3x3 matrix using random module and then,\n",
        "\n",
        "  a) Find the ceil of the matrix.\n",
        "  \n",
        "  b) Find the floor of the matrix."
      ]
    },
    {
      "cell_type": "code",
      "metadata": {
        "id": "kt_CO_v9qpU-",
        "outputId": "407eb09d-e983-4663-e1aa-7387195643f2",
        "colab": {
          "base_uri": "https://localhost:8080/"
        }
      },
      "source": [
        "#please provide your answer below this line\n",
        "\n",
        "import numpy as np\n",
        "array = np.random.randint(10,size=(3,3))\n",
        "print(array)\n",
        "print(\"\\nCeil of the matrix is : \\n \",np.ceil(array))\n",
        "print(\"\\nFloor of the matrix is : \\n\" , np.floor(array))\n"
      ],
      "execution_count": 3,
      "outputs": [
        {
          "output_type": "stream",
          "name": "stdout",
          "text": [
            "[[1 6 5]\n",
            " [1 6 2]\n",
            " [6 0 8]]\n",
            "\n",
            "Ceil of the matrix is : \n",
            "  [[1. 6. 5.]\n",
            " [1. 6. 2.]\n",
            " [6. 0. 8.]]\n",
            "\n",
            "Floor of the matrix is : \n",
            " [[1. 6. 5.]\n",
            " [1. 6. 2.]\n",
            " [6. 0. 8.]]\n"
          ]
        }
      ]
    },
    {
      "cell_type": "markdown",
      "metadata": {
        "id": "oln9t19WqzBb"
      },
      "source": [
        "3. Create a random 1x4 array and print the random array and its shape.\n",
        "    \n",
        "      (use the shape function for finding the shape & use the same random we created here for both the below operations.)\n",
        "\n",
        "  a) Squeeze the random array and print the squeezed array and its shape.\n",
        "  b) Expand the random array by one axis and print the expanded array and its shape."
      ]
    },
    {
      "cell_type": "code",
      "metadata": {
        "id": "cbGGwRo3vpVX",
        "outputId": "4485c82c-3cd0-4f4a-c4ab-aa743deb0b7e",
        "colab": {
          "base_uri": "https://localhost:8080/"
        }
      },
      "source": [
        "#please provide your answer below this line.\n",
        "\n",
        "\n",
        "import numpy as np\n",
        "array = np.random.randint(10,size=(1,4))\n",
        "print(array)\n",
        "print(array.shape)\n",
        "print(np.squeeze(array))\n",
        "print(np.squeeze(array).shape)\n",
        "print(np.expand_dims(array,axis=2))\n",
        "print(np.expand_dims(array,axis=2).shape)\n"
      ],
      "execution_count": 4,
      "outputs": [
        {
          "output_type": "stream",
          "name": "stdout",
          "text": [
            "[[0 4 0 3]]\n",
            "(1, 4)\n",
            "[0 4 0 3]\n",
            "(4,)\n",
            "[[[0]\n",
            "  [4]\n",
            "  [0]\n",
            "  [3]]]\n",
            "(1, 4, 1)\n"
          ]
        }
      ]
    }
  ]
}